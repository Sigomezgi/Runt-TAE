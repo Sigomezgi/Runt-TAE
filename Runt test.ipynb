{
 "cells": [
  {
   "cell_type": "code",
   "execution_count": 1,
   "id": "77afc0be",
   "metadata": {},
   "outputs": [],
   "source": [
    "import joblib\n",
    "import pandas as pd\n",
    "from sklearn.metrics import r2_score as r2"
   ]
  },
  {
   "cell_type": "code",
   "execution_count": 2,
   "id": "bd8d0fda",
   "metadata": {},
   "outputs": [],
   "source": [
    "import matplotlib.lines as mlines\n",
    "import matplotlib.transforms as mtransforms"
   ]
  },
  {
   "cell_type": "code",
   "execution_count": 3,
   "id": "59a3035d",
   "metadata": {},
   "outputs": [],
   "source": [
    "import matplotlib.pyplot as plt"
   ]
  },
  {
   "cell_type": "code",
   "execution_count": 4,
   "id": "db285491",
   "metadata": {},
   "outputs": [],
   "source": [
    "from pycaret.regression import *"
   ]
  },
  {
   "cell_type": "code",
   "execution_count": 5,
   "id": "135d8ad4",
   "metadata": {},
   "outputs": [],
   "source": [
    "modelo = joblib.load('modelo_runt_entrenado.pkl')"
   ]
  },
  {
   "cell_type": "code",
   "execution_count": 6,
   "id": "86ee4d37",
   "metadata": {},
   "outputs": [],
   "source": [
    "Data_test = pd.read_csv('Data_test.csv', encoding = 'utf-8')"
   ]
  },
  {
   "cell_type": "code",
   "execution_count": 7,
   "id": "e30f7062",
   "metadata": {},
   "outputs": [
    {
     "data": {
      "text/html": [
       "<div>\n",
       "<style scoped>\n",
       "    .dataframe tbody tr th:only-of-type {\n",
       "        vertical-align: middle;\n",
       "    }\n",
       "\n",
       "    .dataframe tbody tr th {\n",
       "        vertical-align: top;\n",
       "    }\n",
       "\n",
       "    .dataframe thead th {\n",
       "        text-align: right;\n",
       "    }\n",
       "</style>\n",
       "<table border=\"1\" class=\"dataframe\">\n",
       "  <thead>\n",
       "    <tr style=\"text-align: right;\">\n",
       "      <th></th>\n",
       "      <th>Year</th>\n",
       "      <th>Month</th>\n",
       "      <th>Day</th>\n",
       "      <th>Festivo</th>\n",
       "      <th>Holidays</th>\n",
       "      <th>Unidades</th>\n",
       "      <th>Dayweek_Friday</th>\n",
       "      <th>Dayweek_Monday</th>\n",
       "      <th>Dayweek_Saturday</th>\n",
       "      <th>Dayweek_Sunday</th>\n",
       "      <th>Dayweek_Thursday</th>\n",
       "      <th>Dayweek_Tuesday</th>\n",
       "      <th>Dayweek_Wednesday</th>\n",
       "    </tr>\n",
       "  </thead>\n",
       "  <tbody>\n",
       "    <tr>\n",
       "      <th>0</th>\n",
       "      <td>2017</td>\n",
       "      <td>1</td>\n",
       "      <td>1</td>\n",
       "      <td>1</td>\n",
       "      <td>1</td>\n",
       "      <td>0</td>\n",
       "      <td>0</td>\n",
       "      <td>0</td>\n",
       "      <td>0</td>\n",
       "      <td>1</td>\n",
       "      <td>0</td>\n",
       "      <td>0</td>\n",
       "      <td>0</td>\n",
       "    </tr>\n",
       "    <tr>\n",
       "      <th>1</th>\n",
       "      <td>2017</td>\n",
       "      <td>2</td>\n",
       "      <td>1</td>\n",
       "      <td>0</td>\n",
       "      <td>0</td>\n",
       "      <td>45</td>\n",
       "      <td>0</td>\n",
       "      <td>0</td>\n",
       "      <td>0</td>\n",
       "      <td>0</td>\n",
       "      <td>0</td>\n",
       "      <td>0</td>\n",
       "      <td>1</td>\n",
       "    </tr>\n",
       "    <tr>\n",
       "      <th>2</th>\n",
       "      <td>2017</td>\n",
       "      <td>3</td>\n",
       "      <td>1</td>\n",
       "      <td>0</td>\n",
       "      <td>0</td>\n",
       "      <td>116</td>\n",
       "      <td>0</td>\n",
       "      <td>0</td>\n",
       "      <td>0</td>\n",
       "      <td>0</td>\n",
       "      <td>0</td>\n",
       "      <td>0</td>\n",
       "      <td>1</td>\n",
       "    </tr>\n",
       "    <tr>\n",
       "      <th>3</th>\n",
       "      <td>2017</td>\n",
       "      <td>4</td>\n",
       "      <td>1</td>\n",
       "      <td>0</td>\n",
       "      <td>0</td>\n",
       "      <td>232</td>\n",
       "      <td>0</td>\n",
       "      <td>0</td>\n",
       "      <td>1</td>\n",
       "      <td>0</td>\n",
       "      <td>0</td>\n",
       "      <td>0</td>\n",
       "      <td>0</td>\n",
       "    </tr>\n",
       "    <tr>\n",
       "      <th>4</th>\n",
       "      <td>2017</td>\n",
       "      <td>5</td>\n",
       "      <td>1</td>\n",
       "      <td>0</td>\n",
       "      <td>0</td>\n",
       "      <td>455</td>\n",
       "      <td>0</td>\n",
       "      <td>1</td>\n",
       "      <td>0</td>\n",
       "      <td>0</td>\n",
       "      <td>0</td>\n",
       "      <td>0</td>\n",
       "      <td>0</td>\n",
       "    </tr>\n",
       "  </tbody>\n",
       "</table>\n",
       "</div>"
      ],
      "text/plain": [
       "   Year  Month  Day  Festivo  Holidays  Unidades  Dayweek_Friday  \\\n",
       "0  2017      1    1        1         1         0               0   \n",
       "1  2017      2    1        0         0        45               0   \n",
       "2  2017      3    1        0         0       116               0   \n",
       "3  2017      4    1        0         0       232               0   \n",
       "4  2017      5    1        0         0       455               0   \n",
       "\n",
       "   Dayweek_Monday  Dayweek_Saturday  Dayweek_Sunday  Dayweek_Thursday  \\\n",
       "0               0                 0               1                 0   \n",
       "1               0                 0               0                 0   \n",
       "2               0                 0               0                 0   \n",
       "3               0                 1               0                 0   \n",
       "4               1                 0               0                 0   \n",
       "\n",
       "   Dayweek_Tuesday  Dayweek_Wednesday  \n",
       "0                0                  0  \n",
       "1                0                  1  \n",
       "2                0                  1  \n",
       "3                0                  0  \n",
       "4                0                  0  "
      ]
     },
     "execution_count": 7,
     "metadata": {},
     "output_type": "execute_result"
    }
   ],
   "source": [
    "Data_test.head()"
   ]
  },
  {
   "cell_type": "code",
   "execution_count": 8,
   "id": "99c31b45",
   "metadata": {},
   "outputs": [],
   "source": [
    "num = ['Year', 'Month', 'Day','Festivo','Holidays','Dayweek_Friday','Dayweek_Monday','Dayweek_Saturday','Dayweek_Sunday','Dayweek_Thursday','Dayweek_Tuesday','Dayweek_Wednesday']"
   ]
  },
  {
   "cell_type": "markdown",
   "id": "4acb8c75",
   "metadata": {},
   "source": [
    "### Evaluación del modelo"
   ]
  },
  {
   "cell_type": "code",
   "execution_count": 9,
   "id": "ebfd656c",
   "metadata": {},
   "outputs": [],
   "source": [
    "predtest = modelo.predict(Data_test[num])"
   ]
  },
  {
   "cell_type": "code",
   "execution_count": 10,
   "id": "cfce0044",
   "metadata": {},
   "outputs": [
    {
     "data": {
      "text/plain": [
       "70.0"
      ]
     },
     "execution_count": 10,
     "metadata": {},
     "output_type": "execute_result"
    }
   ],
   "source": [
    "round (r2(Data_test['Unidades'],predtest),2)*100"
   ]
  },
  {
   "cell_type": "code",
   "execution_count": 11,
   "id": "b4d93bdd",
   "metadata": {},
   "outputs": [],
   "source": [
    "residual = Data_test['Unidades'] - predtest"
   ]
  },
  {
   "cell_type": "code",
   "execution_count": 12,
   "id": "7345c8df",
   "metadata": {},
   "outputs": [
    {
     "data": {
      "image/png": "[encoded data removed]",
      "text/plain": [
       "<Figure size 432x288 with 1 Axes>"
      ]
     },
     "metadata": {
      "needs_background": "light"
     },
     "output_type": "display_data"
    }
   ],
   "source": [
    "fig, ax = plt.subplots()\n",
    "line = mlines.Line2D([0, 1], [0, 1], color='red')\n",
    "ax.scatter(Data_test['Unidades'],predtest)\n",
    "transform = ax.transAxes\n",
    "line.set_transform(transform)\n",
    "ax.add_line(line)\n",
    "#plt.title(\"title\")\n",
    "plt.xlabel(\"Real\")\n",
    "plt.ylabel(\"Predicho\")\n",
    "plt.savefig('scatter.png', dpi = 400)\n",
    "plt.show()"
   ]
  }
 ],
 "metadata": {
  "kernelspec": {
   "display_name": "Python 3 (ipykernel)",
   "language": "python",
   "name": "python3"
  },
  "language_info": {
   "codemirror_mode": {
    "name": "ipython",
    "version": 3
   },
   "file_extension": ".py",
   "mimetype": "text/x-python",
   "name": "python",
   "nbconvert_exporter": "python",
   "pygments_lexer": "ipython3",
   "version": "3.8.12"
  }
 },
 "nbformat": 4,
 "nbformat_minor": 5
}
